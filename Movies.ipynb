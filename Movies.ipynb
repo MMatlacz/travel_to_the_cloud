{
 "cells": [
  {
   "cell_type": "code",
   "execution_count": 78,
   "metadata": {
    "collapsed": true
   },
   "outputs": [],
   "source": [
    "from bs4 import BeautifulSoup"
   ]
  },
  {
   "cell_type": "code",
   "execution_count": 79,
   "metadata": {
    "collapsed": true
   },
   "outputs": [],
   "source": [
    "import requests"
   ]
  },
  {
   "cell_type": "code",
   "execution_count": 80,
   "metadata": {
    "collapsed": true
   },
   "outputs": [],
   "source": [
    "url = 'http://effatha.pl/slownik.html'"
   ]
  },
  {
   "cell_type": "code",
   "execution_count": 81,
   "metadata": {
    "collapsed": true
   },
   "outputs": [],
   "source": [
    "index = requests.get(url)"
   ]
  },
  {
   "cell_type": "code",
   "execution_count": 82,
   "metadata": {
    "collapsed": true
   },
   "outputs": [],
   "source": [
    "bs = BeautifulSoup(index.text, 'html5lib')"
   ]
  },
  {
   "cell_type": "code",
   "execution_count": 83,
   "metadata": {
    "collapsed": true
   },
   "outputs": [],
   "source": [
    "entries = bs.find(name='div', attrs={'id': 'slownik'}).find_all(['li'])"
   ]
  },
  {
   "cell_type": "code",
   "execution_count": 84,
   "metadata": {
    "collapsed": true
   },
   "outputs": [],
   "source": [
    "from tqdm import tqdm_notebook"
   ]
  },
  {
   "cell_type": "code",
   "execution_count": 85,
   "metadata": {
    "collapsed": true
   },
   "outputs": [],
   "source": [
    "# entries_clean = []\n",
    "# for e in tqdm_notebook(entries):\n",
    "#     if e.find('h4'):\n",
    "#         link = e.find('a')\n",
    "#         if link and link.attrs['href'].startswith('slownik'):\n",
    "#             entries_clean.append(str(link))"
   ]
  },
  {
   "cell_type": "code",
   "execution_count": 86,
   "metadata": {
    "collapsed": true
   },
   "outputs": [],
   "source": [
    "# len(entries_clean)"
   ]
  },
  {
   "cell_type": "code",
   "execution_count": 87,
   "metadata": {
    "collapsed": true
   },
   "outputs": [],
   "source": [
    "import re"
   ]
  },
  {
   "cell_type": "code",
   "execution_count": 88,
   "metadata": {
    "collapsed": true
   },
   "outputs": [],
   "source": [
    "# entries_clean"
   ]
  },
  {
   "cell_type": "code",
   "execution_count": 89,
   "metadata": {
    "collapsed": true
   },
   "outputs": [],
   "source": [
    "# t = entries_clean[0]"
   ]
  },
  {
   "cell_type": "code",
   "execution_count": 90,
   "metadata": {
    "collapsed": true
   },
   "outputs": [],
   "source": [
    "# re.findall(r'href=\"(\\S+)\"', str(entries_clean[0]))"
   ]
  },
  {
   "cell_type": "code",
   "execution_count": 91,
   "metadata": {
    "collapsed": true
   },
   "outputs": [],
   "source": [
    "def get_yt_url(e):\n",
    "    href = re.findall(r'href=\"(\\S+)\"', str(e))[0]\n",
    "    data = requests.get('http://effatha.pl/' + href).text\n",
    "    if data:\n",
    "        iframe = re.findall(r'iframe\\s*src=\"(\\S+)\"', str(data))[0]\n",
    "#         iframe = BeautifulSoup(data,'html5lib').find('iframe')\n",
    "        return iframe\n",
    "    else:\n",
    "        print('error')"
   ]
  },
  {
   "cell_type": "code",
   "execution_count": 92,
   "metadata": {
    "collapsed": true
   },
   "outputs": [],
   "source": [
    "# urls = [get_yt_url(e) for e in tqdm_notebook(entries_clean)]"
   ]
  },
  {
   "cell_type": "code",
   "execution_count": null,
   "metadata": {
    "collapsed": true
   },
   "outputs": [],
   "source": []
  },
  {
   "cell_type": "code",
   "execution_count": 93,
   "metadata": {
    "collapsed": true
   },
   "outputs": [],
   "source": [
    "# %time movies = p.map(get_yt_url, entries_clean[:10])    "
   ]
  },
  {
   "cell_type": "code",
   "execution_count": null,
   "metadata": {
    "collapsed": true
   },
   "outputs": [],
   "source": []
  },
  {
   "cell_type": "code",
   "execution_count": 94,
   "metadata": {
    "collapsed": true
   },
   "outputs": [],
   "source": [
    "import os"
   ]
  },
  {
   "cell_type": "code",
   "execution_count": 95,
   "metadata": {},
   "outputs": [],
   "source": [
    "movies = os.listdir('app/movies/')"
   ]
  },
  {
   "cell_type": "code",
   "execution_count": 96,
   "metadata": {
    "collapsed": true
   },
   "outputs": [],
   "source": [
    "import unicodedata"
   ]
  },
  {
   "cell_type": "code",
   "execution_count": 97,
   "metadata": {
    "collapsed": true
   },
   "outputs": [],
   "source": [
    "dictionary = dict([(unicodedata.normalize('NFC', p.split('-')[0].lower()), p) for p in movies])"
   ]
  },
  {
   "cell_type": "code",
   "execution_count": 134,
   "metadata": {
    "collapsed": true
   },
   "outputs": [],
   "source": [
    "dictionary['latać'] = dictionary['latać samolotem']\n",
    "dictionary['odlecieć'] = dictionary['latać samolotem']\n",
    "\n",
    "dictionary['jechać'] = dictionary['jeździć']\n",
    "dictionary['odjechać'] = dictionary['jeździć']\n",
    "dictionary['odjeżdżać'] = dictionary['jeździć']"
   ]
  },
  {
   "cell_type": "code",
   "execution_count": 159,
   "metadata": {},
   "outputs": [
    {
     "data": {
      "text/plain": [
       "['jeśli',\n",
       " 'jezioro',\n",
       " 'jest',\n",
       " 'jego',\n",
       " 'jesień',\n",
       " 'jeździć na nartach',\n",
       " 'jedynka',\n",
       " 'jelenia góra',\n",
       " 'jezus chrystus',\n",
       " 'jezus',\n",
       " 'jeździć',\n",
       " 'jehowa',\n",
       " 'jedzenie2',\n",
       " 'jeść',\n",
       " 'jeszcze',\n",
       " 'jedzenie',\n",
       " 'jechać',\n",
       " 'jerozolima',\n",
       " 'jeleń']"
      ]
     },
     "execution_count": 159,
     "metadata": {},
     "output_type": "execute_result"
    }
   ],
   "source": [
    "[k for k in dictionary.keys() if k.startswith('je')]"
   ]
  },
  {
   "cell_type": "code",
   "execution_count": 160,
   "metadata": {
    "collapsed": true
   },
   "outputs": [],
   "source": [
    "import subprocess"
   ]
  },
  {
   "cell_type": "code",
   "execution_count": 161,
   "metadata": {
    "collapsed": true
   },
   "outputs": [],
   "source": [
    "import pexpect\n",
    "def lemmatize(word):\n",
    "    child = pexpect.spawn('morfeusz_analyzer', encoding='utf-8')\n",
    "    child.expect('sgjp \\(default\\)\\r\\n')\n",
    "    child.sendline(word)\n",
    "    child.readline()\n",
    "    child.kill\n",
    "    response = child.readline()\n",
    "    return response.split(',')[3].split(':')[0]"
   ]
  },
  {
   "cell_type": "code",
   "execution_count": 162,
   "metadata": {},
   "outputs": [
    {
     "data": {
      "text/plain": [
       "'samochód'"
      ]
     },
     "execution_count": 162,
     "metadata": {},
     "output_type": "execute_result"
    }
   ],
   "source": [
    "lemmatize('samochody')"
   ]
  },
  {
   "cell_type": "code",
   "execution_count": 163,
   "metadata": {
    "collapsed": true
   },
   "outputs": [],
   "source": [
    "import Levenshtein"
   ]
  },
  {
   "cell_type": "code",
   "execution_count": 164,
   "metadata": {
    "collapsed": true
   },
   "outputs": [],
   "source": [
    "def find_synonym(word):\n",
    "    for k,p in dictionary.items():\n",
    "        if Levenshtein.ratio(k, word) >= 0.7:\n",
    "            return k,p\n",
    "    synonyms = get_synonyms(word)\n",
    "    for syn in synonyms:\n",
    "        for k,p in dictionary.items():\n",
    "            if Levenshtein.ratio(k, syn) >= 0.7:\n",
    "                return k,p\n",
    "    return None,None"
   ]
  },
  {
   "cell_type": "code",
   "execution_count": 165,
   "metadata": {},
   "outputs": [
    {
     "data": {
      "text/plain": [
       "'odjeżdżać'"
      ]
     },
     "execution_count": 165,
     "metadata": {},
     "output_type": "execute_result"
    }
   ],
   "source": [
    "lemmatize('odjeżdża')"
   ]
  },
  {
   "cell_type": "code",
   "execution_count": 166,
   "metadata": {},
   "outputs": [
    {
     "data": {
      "text/plain": [
       "('odjeżdżać', 'jeździć-C1yjqX-AXb0.mp4')"
      ]
     },
     "execution_count": 166,
     "metadata": {},
     "output_type": "execute_result"
    }
   ],
   "source": [
    "find_synonym('odjeżdża')"
   ]
  },
  {
   "cell_type": "code",
   "execution_count": 167,
   "metadata": {},
   "outputs": [
    {
     "data": {
      "text/plain": [
       "'opóźnić'"
      ]
     },
     "execution_count": 167,
     "metadata": {},
     "output_type": "execute_result"
    }
   ],
   "source": [
    "lemmatize('opóźniony')"
   ]
  },
  {
   "cell_type": "code",
   "execution_count": 168,
   "metadata": {},
   "outputs": [],
   "source": [
    "from app.ivr.wdnet import is_known, get_synonyms, are_synonyms"
   ]
  },
  {
   "cell_type": "code",
   "execution_count": 169,
   "metadata": {
    "collapsed": true
   },
   "outputs": [],
   "source": [
    "sent = 'pociąg relacji Warszawa Gdańsk jest opóźniony o 10 minut'"
   ]
  },
  {
   "cell_type": "code",
   "execution_count": 170,
   "metadata": {
    "collapsed": true
   },
   "outputs": [],
   "source": [
    "sent = 'pociąg odjeżdża za 10 minut'"
   ]
  },
  {
   "cell_type": "code",
   "execution_count": 171,
   "metadata": {
    "collapsed": true
   },
   "outputs": [],
   "source": [
    "from nltk import pos_tag\n",
    "import nltk"
   ]
  },
  {
   "cell_type": "code",
   "execution_count": 172,
   "metadata": {},
   "outputs": [
    {
     "data": {
      "text/plain": [
       "[('pociąg', 'NN'),\n",
       " ('odjeżdża', 'NN'),\n",
       " ('za', 'NN'),\n",
       " ('10', 'CD'),\n",
       " ('minut', 'NN')]"
      ]
     },
     "execution_count": 172,
     "metadata": {},
     "output_type": "execute_result"
    }
   ],
   "source": [
    "pos_tag(sent.split())"
   ]
  },
  {
   "cell_type": "code",
   "execution_count": 173,
   "metadata": {
    "collapsed": true
   },
   "outputs": [],
   "source": [
    "from moviepy.editor import *"
   ]
  },
  {
   "cell_type": "code",
   "execution_count": 174,
   "metadata": {
    "collapsed": true
   },
   "outputs": [],
   "source": [
    "from many_stop_words import get_stop_words"
   ]
  },
  {
   "cell_type": "code",
   "execution_count": 175,
   "metadata": {
    "collapsed": true
   },
   "outputs": [],
   "source": [
    "stopwords = get_stop_words('pl')"
   ]
  },
  {
   "cell_type": "code",
   "execution_count": 176,
   "metadata": {
    "collapsed": true
   },
   "outputs": [],
   "source": [
    "def word2clip(word):\n",
    "    if word in stopwords:\n",
    "        return\n",
    "    if word not in dictionary:\n",
    "        lemmatized = lemmatize(word) or word\n",
    "    else:\n",
    "        lemmatized = word\n",
    "    clip = dictionary.get(lemmatized, None)\n",
    "    if clip:\n",
    "        print('original: ', word, 'lemmatized: ', lemmatized, 'clip', clip, type(clip))\n",
    "        return VideoFileClip(os.path.join('app/movies', clip))\n",
    "    else:\n",
    "        synonym, clip = find_synonym(word)\n",
    "        print('original: ', word, 'synnonym: ', synonym, 'clip', clip, type(clip))\n",
    "        if clip:\n",
    "            return VideoFileClip(os.path.join('app/movies', clip))"
   ]
  },
  {
   "cell_type": "code",
   "execution_count": 177,
   "metadata": {
    "collapsed": true
   },
   "outputs": [],
   "source": [
    "def sent2movie(sent):\n",
    "    clips = []\n",
    "    for w in sent.split():\n",
    "        clip = word2clip(w)\n",
    "        if clip:\n",
    "            clips.append(clip.resize((460,460)))\n",
    "    print(clips)\n",
    "    return concatenate_videoclips(clips)"
   ]
  },
  {
   "cell_type": "code",
   "execution_count": 178,
   "metadata": {},
   "outputs": [
    {
     "name": "stdout",
     "output_type": "stream",
     "text": [
      "original:  pociąg lemmatized:  pociąg clip pociąg-EMvnOAZopLo.mp4 <class 'str'>\n",
      "original:  odjeżdża lemmatized:  odjeżdżać clip jeździć-C1yjqX-AXb0.mp4 <class 'str'>\n",
      "original:  10 lemmatized:  10 clip 10-y_tUPPPcJfc.mp4 <class 'str'>\n",
      "original:  minut lemmatized:  minuta clip minuta-nnyW_39XwsY.mp4 <class 'str'>\n",
      "[<moviepy.video.io.VideoFileClip.VideoFileClip object at 0x114840438>, <moviepy.video.io.VideoFileClip.VideoFileClip object at 0x111d42e48>, <moviepy.video.io.VideoFileClip.VideoFileClip object at 0x111d42ac8>, <moviepy.video.io.VideoFileClip.VideoFileClip object at 0x111d42cf8>]\n"
     ]
    }
   ],
   "source": [
    "movie = sent2movie(sent)"
   ]
  },
  {
   "cell_type": "code",
   "execution_count": 35,
   "metadata": {},
   "outputs": [
    {
     "data": {
      "text/plain": [
       "19.379999999999999"
      ]
     },
     "execution_count": 35,
     "metadata": {},
     "output_type": "execute_result"
    }
   ],
   "source": [
    "movie.duration"
   ]
  },
  {
   "cell_type": "code",
   "execution_count": 36,
   "metadata": {
    "collapsed": true
   },
   "outputs": [],
   "source": [
    "# movie = movie.speedx(2)"
   ]
  },
  {
   "cell_type": "code",
   "execution_count": 37,
   "metadata": {},
   "outputs": [
    {
     "data": {
      "text/plain": [
       "19.379999999999999"
      ]
     },
     "execution_count": 37,
     "metadata": {},
     "output_type": "execute_result"
    }
   ],
   "source": [
    "movie.duration"
   ]
  },
  {
   "cell_type": "code",
   "execution_count": 38,
   "metadata": {
    "scrolled": true
   },
   "outputs": [
    {
     "name": "stdout",
     "output_type": "stream",
     "text": [
      "[MoviePy] >>>> Building video ./tmp.mp4\n",
      "[MoviePy] Writing audio in tmpTEMP_MPY_wvf_snd.mp3\n"
     ]
    },
    {
     "name": "stderr",
     "output_type": "stream",
     "text": [
      "100%|██████████| 428/428 [00:00<00:00, 777.01it/s]"
     ]
    },
    {
     "name": "stdout",
     "output_type": "stream",
     "text": [
      "[MoviePy] Done.\n",
      "[MoviePy] Writing video ./tmp.mp4\n"
     ]
    },
    {
     "name": "stderr",
     "output_type": "stream",
     "text": [
      "\n",
      "100%|██████████| 485/485 [00:08<00:00, 54.90it/s]\n"
     ]
    },
    {
     "name": "stdout",
     "output_type": "stream",
     "text": [
      "[MoviePy] Done.\n",
      "[MoviePy] >>>> Video ready: ./tmp.mp4 \n",
      "\n"
     ]
    }
   ],
   "source": [
    "movie.write_videofile('./tmp.mp4')"
   ]
  },
  {
   "cell_type": "code",
   "execution_count": null,
   "metadata": {
    "collapsed": true
   },
   "outputs": [],
   "source": []
  }
 ],
 "metadata": {
  "kernelspec": {
   "display_name": "Python 3",
   "language": "python",
   "name": "python3"
  },
  "language_info": {
   "codemirror_mode": {
    "name": "ipython",
    "version": 3
   },
   "file_extension": ".py",
   "mimetype": "text/x-python",
   "name": "python",
   "nbconvert_exporter": "python",
   "pygments_lexer": "ipython3",
   "version": "3.5.2"
  }
 },
 "nbformat": 4,
 "nbformat_minor": 2
}
