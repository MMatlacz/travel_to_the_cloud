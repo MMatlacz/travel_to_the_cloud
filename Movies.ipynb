{
 "cells": [
  {
   "cell_type": "code",
   "execution_count": 1,
   "metadata": {
    "collapsed": true
   },
   "outputs": [],
   "source": [
    "from bs4 import BeautifulSoup"
   ]
  },
  {
   "cell_type": "code",
   "execution_count": 2,
   "metadata": {
    "collapsed": true
   },
   "outputs": [],
   "source": [
    "import requests"
   ]
  },
  {
   "cell_type": "code",
   "execution_count": 3,
   "metadata": {
    "collapsed": true
   },
   "outputs": [],
   "source": [
    "url = 'http://effatha.pl/slownik.html'"
   ]
  },
  {
   "cell_type": "code",
   "execution_count": 4,
   "metadata": {
    "collapsed": true
   },
   "outputs": [],
   "source": [
    "index = requests.get(url)"
   ]
  },
  {
   "cell_type": "code",
   "execution_count": 5,
   "metadata": {},
   "outputs": [],
   "source": [
    "bs = BeautifulSoup(index.text, 'html5lib')"
   ]
  },
  {
   "cell_type": "code",
   "execution_count": 6,
   "metadata": {},
   "outputs": [],
   "source": [
    "entries = bs.find(name='div', attrs={'id': 'slownik'}).find_all(['li'])"
   ]
  },
  {
   "cell_type": "code",
   "execution_count": 7,
   "metadata": {
    "collapsed": true
   },
   "outputs": [],
   "source": [
    "from tqdm import tqdm_notebook"
   ]
  },
  {
   "cell_type": "code",
   "execution_count": 8,
   "metadata": {},
   "outputs": [],
   "source": [
    "# entries_clean = []\n",
    "# for e in tqdm_notebook(entries):\n",
    "#     if e.find('h4'):\n",
    "#         link = e.find('a')\n",
    "#         if link and link.attrs['href'].startswith('slownik'):\n",
    "#             entries_clean.append(str(link))"
   ]
  },
  {
   "cell_type": "code",
   "execution_count": 9,
   "metadata": {},
   "outputs": [],
   "source": [
    "# len(entries_clean)"
   ]
  },
  {
   "cell_type": "code",
   "execution_count": 10,
   "metadata": {
    "collapsed": true
   },
   "outputs": [],
   "source": [
    "import re"
   ]
  },
  {
   "cell_type": "code",
   "execution_count": 11,
   "metadata": {},
   "outputs": [],
   "source": [
    "# entries_clean"
   ]
  },
  {
   "cell_type": "code",
   "execution_count": 12,
   "metadata": {
    "collapsed": true
   },
   "outputs": [],
   "source": [
    "# t = entries_clean[0]"
   ]
  },
  {
   "cell_type": "code",
   "execution_count": 13,
   "metadata": {},
   "outputs": [],
   "source": [
    "# re.findall(r'href=\"(\\S+)\"', str(entries_clean[0]))"
   ]
  },
  {
   "cell_type": "code",
   "execution_count": 14,
   "metadata": {
    "collapsed": true
   },
   "outputs": [],
   "source": [
    "def get_yt_url(e):\n",
    "    href = re.findall(r'href=\"(\\S+)\"', str(e))[0]\n",
    "    data = requests.get('http://effatha.pl/' + href).text\n",
    "    if data:\n",
    "        iframe = re.findall(r'iframe\\s*src=\"(\\S+)\"', str(data))[0]\n",
    "#         iframe = BeautifulSoup(data,'html5lib').find('iframe')\n",
    "        return iframe\n",
    "    else:\n",
    "        print('error')"
   ]
  },
  {
   "cell_type": "code",
   "execution_count": 15,
   "metadata": {},
   "outputs": [],
   "source": [
    "# urls = [get_yt_url(e) for e in tqdm_notebook(entries_clean)]"
   ]
  },
  {
   "cell_type": "code",
   "execution_count": null,
   "metadata": {
    "collapsed": true
   },
   "outputs": [],
   "source": []
  },
  {
   "cell_type": "code",
   "execution_count": 16,
   "metadata": {},
   "outputs": [],
   "source": [
    "# %time movies = p.map(get_yt_url, entries_clean[:10])    "
   ]
  },
  {
   "cell_type": "code",
   "execution_count": null,
   "metadata": {
    "collapsed": true
   },
   "outputs": [],
   "source": []
  },
  {
   "cell_type": "code",
   "execution_count": 17,
   "metadata": {
    "collapsed": true
   },
   "outputs": [],
   "source": [
    "import os"
   ]
  },
  {
   "cell_type": "code",
   "execution_count": 18,
   "metadata": {},
   "outputs": [],
   "source": [
    "movies = os.listdir('./movies/')"
   ]
  },
  {
   "cell_type": "code",
   "execution_count": 19,
   "metadata": {
    "collapsed": true
   },
   "outputs": [],
   "source": [
    "import unicodedata"
   ]
  },
  {
   "cell_type": "code",
   "execution_count": 20,
   "metadata": {},
   "outputs": [],
   "source": [
    "dictionary = dict([(unicodedata.normalize('NFC', p.split('-')[0].lower()), p) for p in movies])"
   ]
  },
  {
   "cell_type": "code",
   "execution_count": 72,
   "metadata": {},
   "outputs": [
    {
     "data": {
      "text/plain": [
       "['spółka',\n",
       " 'sprawdzać',\n",
       " 'spóźnienie',\n",
       " 'sport',\n",
       " 'sprytny',\n",
       " 'specjalność',\n",
       " 'sprzedawać',\n",
       " 'spierać się',\n",
       " 'spragniony',\n",
       " 'spodnie',\n",
       " 'spuchnąć',\n",
       " 'sprzątać',\n",
       " 'sprzedać',\n",
       " 'spacer',\n",
       " 'spokojny',\n",
       " 'sparaliżowany',\n",
       " 'spódnica',\n",
       " 'sposób',\n",
       " 'spółdzielnia',\n",
       " 'specjalny',\n",
       " 'społeczeństwo',\n",
       " 'spać',\n",
       " 'społeczny',\n",
       " 'spotkanie',\n",
       " 'spór',\n",
       " 'spowiedź',\n",
       " 'spirytus',\n",
       " 'sprawiedliwość',\n",
       " 'sprawa',\n",
       " 'sport2']"
      ]
     },
     "execution_count": 72,
     "metadata": {},
     "output_type": "execute_result"
    }
   ],
   "source": [
    "[k for k in dictionary.keys() if k.startswith('sp')]"
   ]
  },
  {
   "cell_type": "code",
   "execution_count": 22,
   "metadata": {
    "collapsed": true
   },
   "outputs": [],
   "source": [
    "import subprocess"
   ]
  },
  {
   "cell_type": "code",
   "execution_count": 23,
   "metadata": {},
   "outputs": [],
   "source": [
    "import pexpect\n",
    "def lemmatize(word):\n",
    "    child = pexpect.spawn('morfeusz_analyzer')\n",
    "    child.expect('\\)\\r\\n')\n",
    "    child.sendline(word)\n",
    "    child.readline()\n",
    "    response = child.readline()\n",
    "    return response.decode('utf-8').split(',')[3].split(':')[0]"
   ]
  },
  {
   "cell_type": "code",
   "execution_count": 24,
   "metadata": {},
   "outputs": [
    {
     "data": {
      "text/plain": [
       "'mamić'"
      ]
     },
     "execution_count": 24,
     "metadata": {},
     "output_type": "execute_result"
    }
   ],
   "source": [
    "lemmatize('mam')"
   ]
  },
  {
   "cell_type": "code",
   "execution_count": 25,
   "metadata": {
    "collapsed": true
   },
   "outputs": [],
   "source": [
    "import Levenshtein"
   ]
  },
  {
   "cell_type": "code",
   "execution_count": 73,
   "metadata": {
    "collapsed": true
   },
   "outputs": [],
   "source": [
    "def find_synonym(word):\n",
    "    for k,p in dictionary.items():\n",
    "        if Levenshtein.ratio(k, word) >= 0.7:\n",
    "            return k,p\n",
    "    synonyms = get_synonyms(word)\n",
    "    for syn in synonyms:\n",
    "        for k,p in dictionary.items():\n",
    "            if Levenshtein.ratio(k, syn) >= 0.7:\n",
    "                return k,p\n",
    "    return None,None"
   ]
  },
  {
   "cell_type": "code",
   "execution_count": 74,
   "metadata": {},
   "outputs": [
    {
     "data": {
      "text/plain": [
       "'opóźnić'"
      ]
     },
     "execution_count": 74,
     "metadata": {},
     "output_type": "execute_result"
    }
   ],
   "source": [
    "lemmatize('opóźniony')"
   ]
  },
  {
   "cell_type": "code",
   "execution_count": 75,
   "metadata": {},
   "outputs": [],
   "source": [
    "from ivr.wdnet import is_known, get_synonyms, are_synonyms"
   ]
  },
  {
   "cell_type": "code",
   "execution_count": 104,
   "metadata": {},
   "outputs": [],
   "source": [
    "sent = 'pociąg relacji Warszawa Gdańsk jest opóźniony o 10 minut'"
   ]
  },
  {
   "cell_type": "code",
   "execution_count": 105,
   "metadata": {
    "collapsed": true
   },
   "outputs": [],
   "source": [
    "from moviepy.editor import *"
   ]
  },
  {
   "cell_type": "code",
   "execution_count": 106,
   "metadata": {},
   "outputs": [],
   "source": [
    "from many_stop_words import get_stop_words"
   ]
  },
  {
   "cell_type": "code",
   "execution_count": 107,
   "metadata": {},
   "outputs": [],
   "source": [
    "stopwords = get_stop_words('pl')"
   ]
  },
  {
   "cell_type": "code",
   "execution_count": 108,
   "metadata": {},
   "outputs": [],
   "source": [
    "def word2clip(word):\n",
    "    if word in stopwords:\n",
    "        return\n",
    "    if word not in dictionary:\n",
    "        lemmatized = lemmatize(word) or word\n",
    "    else:\n",
    "        lemmatized = word\n",
    "    clip = dictionary.get(lemmatized, None)\n",
    "    if clip:\n",
    "        print('original: ', word, 'lemmatized: ', lemmatized, 'clip', clip, type(clip))\n",
    "        return VideoFileClip(os.path.join('movies', clip))\n",
    "    else:\n",
    "        synonym, clip = find_synonym(word)\n",
    "        print('original: ', word, 'synnonym: ', synonym, 'clip', clip, type(clip))\n",
    "        if clip:\n",
    "            return VideoFileClip(os.path.join('movies', clip))"
   ]
  },
  {
   "cell_type": "code",
   "execution_count": 121,
   "metadata": {
    "collapsed": true
   },
   "outputs": [],
   "source": [
    "def sent2movie(sent):\n",
    "    clips = []\n",
    "    for w in sent.split():\n",
    "        clip = word2clip(w)\n",
    "        if clip:\n",
    "            clips.append(clip.resize((460,460)))\n",
    "    print(clips)\n",
    "    return concatenate_videoclips(clips)"
   ]
  },
  {
   "cell_type": "code",
   "execution_count": 122,
   "metadata": {},
   "outputs": [
    {
     "name": "stdout",
     "output_type": "stream",
     "text": [
      "original:  pociąg lemmatized:  pociąg clip pociąg-EMvnOAZopLo.mp4 <class 'str'>\n",
      "original:  relacji synnonym:  None clip None <class 'NoneType'>\n",
      "original:  Warszawa lemmatized:  warszawa clip Warszawa-aO5yT8agwfQ.mp4 <class 'str'>\n",
      "original:  Gdańsk synnonym:  gdańsk clip Gdańsk-5t9y_rv_PK4.mp4 <class 'str'>\n",
      "original:  opóźniony synnonym:  spóźnienie clip spóźnienie-MVbLQ4vX-7I.mp4 <class 'str'>\n",
      "original:  10 lemmatized:  10 clip 10-y_tUPPPcJfc.mp4 <class 'str'>\n",
      "original:  minut lemmatized:  minuta clip minuta-nnyW_39XwsY.mp4 <class 'str'>\n",
      "[<moviepy.video.io.VideoFileClip.VideoFileClip object at 0x110d5b2b0>, <moviepy.video.io.VideoFileClip.VideoFileClip object at 0x110d5bac8>, <moviepy.video.io.VideoFileClip.VideoFileClip object at 0x110d61208>, <moviepy.video.io.VideoFileClip.VideoFileClip object at 0x110d61278>, <moviepy.video.io.VideoFileClip.VideoFileClip object at 0x10cd60c88>, <moviepy.video.io.VideoFileClip.VideoFileClip object at 0x10cd60908>]\n"
     ]
    }
   ],
   "source": [
    "movie = sent2movie(sent)"
   ]
  },
  {
   "cell_type": "code",
   "execution_count": 123,
   "metadata": {},
   "outputs": [
    {
     "data": {
      "text/plain": [
       "19.0"
      ]
     },
     "execution_count": 123,
     "metadata": {},
     "output_type": "execute_result"
    }
   ],
   "source": [
    "movie.duration"
   ]
  },
  {
   "cell_type": "code",
   "execution_count": 124,
   "metadata": {},
   "outputs": [],
   "source": [
    "# movie = movie.speedx(2)"
   ]
  },
  {
   "cell_type": "code",
   "execution_count": 125,
   "metadata": {},
   "outputs": [
    {
     "data": {
      "text/plain": [
       "19.0"
      ]
     },
     "execution_count": 125,
     "metadata": {},
     "output_type": "execute_result"
    }
   ],
   "source": [
    "movie.duration"
   ]
  },
  {
   "cell_type": "code",
   "execution_count": 127,
   "metadata": {
    "scrolled": true
   },
   "outputs": [
    {
     "name": "stdout",
     "output_type": "stream",
     "text": [
      "[MoviePy] >>>> Building video ./tmp.mp4\n",
      "[MoviePy] Writing audio in tmpTEMP_MPY_wvf_snd.mp3\n"
     ]
    },
    {
     "name": "stderr",
     "output_type": "stream",
     "text": [
      "100%|██████████| 419/419 [00:00<00:00, 764.02it/s]"
     ]
    },
    {
     "name": "stdout",
     "output_type": "stream",
     "text": [
      "[MoviePy] Done.\n",
      "[MoviePy] Writing video ./tmp.mp4\n"
     ]
    },
    {
     "name": "stderr",
     "output_type": "stream",
     "text": [
      "\n",
      "100%|█████████▉| 475/476 [00:07<00:00, 63.43it/s]\n"
     ]
    },
    {
     "name": "stdout",
     "output_type": "stream",
     "text": [
      "[MoviePy] Done.\n",
      "[MoviePy] >>>> Video ready: ./tmp.mp4 \n",
      "\n"
     ]
    }
   ],
   "source": [
    "movie.write_videofile('./tmp.mp4')"
   ]
  },
  {
   "cell_type": "code",
   "execution_count": null,
   "metadata": {
    "collapsed": true
   },
   "outputs": [],
   "source": []
  }
 ],
 "metadata": {
  "kernelspec": {
   "display_name": "Python 3",
   "language": "python",
   "name": "python3"
  },
  "language_info": {
   "codemirror_mode": {
    "name": "ipython",
    "version": 3
   },
   "file_extension": ".py",
   "mimetype": "text/x-python",
   "name": "python",
   "nbconvert_exporter": "python",
   "pygments_lexer": "ipython3",
   "version": "3.5.2"
  }
 },
 "nbformat": 4,
 "nbformat_minor": 2
}
